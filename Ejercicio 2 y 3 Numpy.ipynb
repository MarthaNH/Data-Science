{
 "cells": [
  {
   "cell_type": "markdown",
   "metadata": {},
   "source": [
    "\n",
    "Ejercicio 1\n",
    "Hacer una matriz de 8 x 8 con numeros enteros consecutivos empezando en 1. Llenado por filas (1,2,3,4...)."
   ]
  },
  {
   "cell_type": "code",
   "execution_count": 3,
   "metadata": {},
   "outputs": [
    {
     "name": "stdout",
     "output_type": "stream",
     "text": [
      "[ 1  2  3  4  5  6  7  8  9 10 11 12 13 14 15 16 17 18 19 20 21 22 23 24\n",
      " 25 26 27 28 29 30 31 32 33 34 35 36 37 38 39 40 41 42 43 44 45 46 47 48\n",
      " 49 50 51 52 53 54 55 56 57 58 59 60 61 62 63 64]\n"
     ]
    }
   ],
   "source": [
    "import numpy as np\n",
    "A= np.arange(1,65,1)\n",
    "print(A)"
   ]
  },
  {
   "cell_type": "code",
   "execution_count": 4,
   "metadata": {},
   "outputs": [
    {
     "name": "stdout",
     "output_type": "stream",
     "text": [
      "[[ 1  2  3  4  5  6  7  8]\n",
      " [ 9 10 11 12 13 14 15 16]\n",
      " [17 18 19 20 21 22 23 24]\n",
      " [25 26 27 28 29 30 31 32]\n",
      " [33 34 35 36 37 38 39 40]\n",
      " [41 42 43 44 45 46 47 48]\n",
      " [49 50 51 52 53 54 55 56]\n",
      " [57 58 59 60 61 62 63 64]]\n"
     ]
    }
   ],
   "source": [
    "M= np.reshape(A,(8,8))\n",
    "print(M)"
   ]
  },
  {
   "cell_type": "markdown",
   "metadata": {},
   "source": [
    "Ejercicio 2:\n",
    "i. Hacer una matriz de 8 x 8 con numeros enteros consecutivos empezando en 1. Llenado por columnas.\n",
    "\n",
    "ii. reemplazar los elementos que tengan al menos un 3 por -99."
   ]
  },
  {
   "cell_type": "code",
   "execution_count": 5,
   "metadata": {},
   "outputs": [
    {
     "name": "stdout",
     "output_type": "stream",
     "text": [
      "[[ 1  9 17 25 33 41 49 57]\n",
      " [ 2 10 18 26 34 42 50 58]\n",
      " [ 3 11 19 27 35 43 51 59]\n",
      " [ 4 12 20 28 36 44 52 60]\n",
      " [ 5 13 21 29 37 45 53 61]\n",
      " [ 6 14 22 30 38 46 54 62]\n",
      " [ 7 15 23 31 39 47 55 63]\n",
      " [ 8 16 24 32 40 48 56 64]]\n"
     ]
    }
   ],
   "source": [
    "M2= np.transpose(M)\n",
    "print(M2)"
   ]
  },
  {
   "cell_type": "code",
   "execution_count": 6,
   "metadata": {
    "scrolled": true
   },
   "outputs": [
    {
     "name": "stdout",
     "output_type": "stream",
     "text": [
      "[[  1   2 -99   4   5   6   7   8]\n",
      " [  9  10  11  12 -99  14  15  16]\n",
      " [ 17  18  19  20  21  22 -99  24]\n",
      " [ 25  26  27  28  29 -99 -99 -99]\n",
      " [-99 -99 -99 -99 -99 -99 -99  40]\n",
      " [ 41  42 -99  44  45  46  47  48]\n",
      " [ 49  50  51  52 -99  54  55  56]\n",
      " [ 57  58  59  60  61  62 -99  64]]\n"
     ]
    }
   ],
   "source": [
    "for i in range(8):\n",
    "    for j in range(8):\n",
    "        e= str(M[i][j])\n",
    "        o = e.find('3')\n",
    "        if (o != -1):\n",
    "            M[i][j] = -99\n",
    "print(M)"
   ]
  },
  {
   "cell_type": "code",
   "execution_count": null,
   "metadata": {},
   "outputs": [],
   "source": []
  }
 ],
 "metadata": {
  "kernelspec": {
   "display_name": "Python 3",
   "language": "python",
   "name": "python3"
  },
  "language_info": {
   "codemirror_mode": {
    "name": "ipython",
    "version": 3
   },
   "file_extension": ".py",
   "mimetype": "text/x-python",
   "name": "python",
   "nbconvert_exporter": "python",
   "pygments_lexer": "ipython3",
   "version": "3.8.3"
  }
 },
 "nbformat": 4,
 "nbformat_minor": 4
}
