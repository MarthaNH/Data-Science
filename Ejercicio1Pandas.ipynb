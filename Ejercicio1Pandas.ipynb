{
  "nbformat": 4,
  "nbformat_minor": 0,
  "metadata": {
    "colab": {
      "provenance": [],
      "authorship_tag": "ABX9TyMVxeGxgre2K5QeTJ2aIeBo",
      "include_colab_link": true
    },
    "kernelspec": {
      "name": "python3",
      "display_name": "Python 3"
    },
    "language_info": {
      "name": "python"
    }
  },
  "cells": [
    {
      "cell_type": "markdown",
      "metadata": {
        "id": "view-in-github",
        "colab_type": "text"
      },
      "source": [
        "<a href=\"https://colab.research.google.com/github/MarthaNH/Data-Science/blob/main/Ejercicio1Pandas.ipynb\" target=\"_parent\"><img src=\"https://colab.research.google.com/assets/colab-badge.svg\" alt=\"Open In Colab\"/></a>"
      ]
    },
    {
      "cell_type": "markdown",
      "source": [
        "Ejercicio 1.\n",
        "\n",
        "i. Crear la serie A serie con:\n",
        "\n",
        "-índices: letras del abecedario ordenadas (investigar función que genere la lista) \n",
        "\n",
        "-valores: números enteros comenzando en 10, odenados de forma creciente y paso de 1\n",
        "\n",
        "ii. Crear la serie B serie con:\n",
        "\n",
        "-índices: números enteros comenzando en 10, odenados de forma creciente y paso de 1\n",
        "\n",
        "-valores: letras del abecedario con orden inverso (z, y, x, w ...)\n",
        "\n",
        "iii. Seleccionar de cada una de las series los elementos con índice o valor entre d:i\n",
        "\n",
        "\n"
      ],
      "metadata": {
        "id": "U5RgSTOdqll4"
      }
    },
    {
      "cell_type": "code",
      "execution_count": null,
      "metadata": {
        "id": "zmqIziWo-hIv"
      },
      "outputs": [],
      "source": [
        "import numpy as np\n",
        "import pandas as pd"
      ]
    },
    {
      "cell_type": "code",
      "source": [
        "ab=list(string.ascii_lowercase)\n",
        "num= np.arange(10,36,1)\n",
        "\n",
        "A= pd.Series(num, ab)\n",
        "print(A)"
      ],
      "metadata": {
        "colab": {
          "base_uri": "https://localhost:8080/"
        },
        "id": "8krK1Lxs_ewB",
        "outputId": "e90e61c5-71b5-4089-e83e-b6036c282eb6"
      },
      "execution_count": null,
      "outputs": [
        {
          "output_type": "stream",
          "name": "stdout",
          "text": [
            "a    10\n",
            "b    11\n",
            "c    12\n",
            "d    13\n",
            "e    14\n",
            "f    15\n",
            "g    16\n",
            "h    17\n",
            "i    18\n",
            "j    19\n",
            "k    20\n",
            "l    21\n",
            "m    22\n",
            "n    23\n",
            "o    24\n",
            "p    25\n",
            "q    26\n",
            "r    27\n",
            "s    28\n",
            "t    29\n",
            "u    30\n",
            "v    31\n",
            "w    32\n",
            "x    33\n",
            "y    34\n",
            "z    35\n",
            "dtype: int64\n"
          ]
        }
      ]
    },
    {
      "cell_type": "code",
      "source": [
        "A[3]"
      ],
      "metadata": {
        "colab": {
          "base_uri": "https://localhost:8080/"
        },
        "id": "hi7k9EWGGb-M",
        "outputId": "dd49f704-75d3-4148-e447-58e4c5280c03"
      },
      "execution_count": null,
      "outputs": [
        {
          "output_type": "execute_result",
          "data": {
            "text/plain": [
              "13"
            ]
          },
          "metadata": {},
          "execution_count": 33
        }
      ]
    },
    {
      "cell_type": "code",
      "source": [
        "\n",
        "ab=list(string.ascii_lowercase)\n",
        "num= np.arange(10,36,1)\n",
        "ab2=(ab[::-1])\n",
        "B=pd.Series(ab2,num)\n",
        "print(B)"
      ],
      "metadata": {
        "colab": {
          "base_uri": "https://localhost:8080/"
        },
        "id": "mR9k_5OUDGdb",
        "outputId": "1106314f-319d-49cd-efac-afa7f27a75f7"
      },
      "execution_count": null,
      "outputs": [
        {
          "output_type": "stream",
          "name": "stdout",
          "text": [
            "10    z\n",
            "11    y\n",
            "12    x\n",
            "13    w\n",
            "14    v\n",
            "15    u\n",
            "16    t\n",
            "17    s\n",
            "18    r\n",
            "19    q\n",
            "20    p\n",
            "21    o\n",
            "22    n\n",
            "23    m\n",
            "24    l\n",
            "25    k\n",
            "26    j\n",
            "27    i\n",
            "28    h\n",
            "29    g\n",
            "30    f\n",
            "31    e\n",
            "32    d\n",
            "33    c\n",
            "34    b\n",
            "35    a\n",
            "dtype: object\n"
          ]
        }
      ]
    },
    {
      "cell_type": "code",
      "source": [
        "A['d':'i']"
      ],
      "metadata": {
        "colab": {
          "base_uri": "https://localhost:8080/"
        },
        "id": "CPjtact1IOrJ",
        "outputId": "d3afea48-d190-4133-bd1e-3fde1abb0c63"
      },
      "execution_count": null,
      "outputs": [
        {
          "output_type": "execute_result",
          "data": {
            "text/plain": [
              "d    13\n",
              "e    14\n",
              "f    15\n",
              "g    16\n",
              "h    17\n",
              "i    18\n",
              "dtype: int64"
            ]
          },
          "metadata": {},
          "execution_count": 40
        }
      ]
    },
    {
      "cell_type": "code",
      "source": [
        "B[B.isin(['d','e', 'f','g','h', 'i'])]"
      ],
      "metadata": {
        "colab": {
          "base_uri": "https://localhost:8080/"
        },
        "id": "POLzYcOMIe3g",
        "outputId": "49fea82d-b124-41ce-b639-50a157073c62"
      },
      "execution_count": null,
      "outputs": [
        {
          "output_type": "execute_result",
          "data": {
            "text/plain": [
              "27    i\n",
              "28    h\n",
              "29    g\n",
              "30    f\n",
              "31    e\n",
              "32    d\n",
              "dtype: object"
            ]
          },
          "metadata": {},
          "execution_count": 43
        }
      ]
    }
  ]
}